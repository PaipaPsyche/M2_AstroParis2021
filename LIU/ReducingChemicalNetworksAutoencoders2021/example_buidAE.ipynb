{
 "cells": [
  {
   "cell_type": "code",
   "execution_count": 1,
   "metadata": {},
   "outputs": [],
   "source": [
    "import iterative_abundances as it_ab\n",
    "import iterative_params as it_p\n",
    "from buildNN import *"
   ]
  },
  {
   "cell_type": "code",
   "execution_count": 2,
   "metadata": {},
   "outputs": [
    {
     "data": {
      "text/plain": [
       "'CHIMES_0.6/'"
      ]
     },
     "execution_count": 2,
     "metadata": {},
     "output_type": "execute_result"
    }
   ],
   "source": [
    "it_ab.CHIMESPATH"
   ]
  },
  {
   "cell_type": "code",
   "execution_count": 4,
   "metadata": {
    "scrolled": true
   },
   "outputs": [
    {
     "name": "stdout",
     "output_type": "stream",
     "text": [
      "100 lines for each of the 50 models = 5000 samples\n",
      "  3200 samples for training\n",
      "  800 samples for validating\n",
      "  1000 samples for testing\n",
      "extracting example_9.csv.gz ...  \n",
      "Extraction completed. Splitting dataset...\n",
      "Done.\n"
     ]
    }
   ],
   "source": [
    "example_dataset = create_dataset(it_ab.CHIMESPATH+\"Out/example/example_csv/\",100,choice=\"equal\",dataset_type=\"train_test\", test_size=0.2, val_size=0.2, savename = \"exampleDB\", norm_abundances = 2e4)"
   ]
  },
  {
   "cell_type": "markdown",
   "metadata": {},
   "source": [
    "# TRAINING AND EVALUATING AUTOENCODER"
   ]
  },
  {
   "cell_type": "code",
   "execution_count": 5,
   "metadata": {},
   "outputs": [],
   "source": [
    "# get dataset\n",
    "retrieved_dataset = retrieve_dataset(\"exampleDB.npz\")\n",
    "#number of species\n",
    "num_specs = len(retrieved_dataset[\"cols\"])\n",
    "# build autoencoder model\n",
    "model = autoencoder(latent_dim=5,num_specs=num_specs)"
   ]
  },
  {
   "cell_type": "code",
   "execution_count": 6,
   "metadata": {},
   "outputs": [
    {
     "name": "stdout",
     "output_type": "stream",
     "text": [
      "Training Autoencoder \n",
      " Epochs 100  \n",
      " Batch Size 32 \n",
      " Learning Rate 1.00e-03\n",
      "epoch [0/100], Log(loss):-1.819\n",
      "-->    [0] Validation Log(loss) = -1.82 +- 0.00e+00\n",
      "-->    [5] Validation Log(loss) = -2.55 +- 0.00e+00\n",
      "epoch [10/100], Log(loss):-2.734\n",
      "-->    [10] Validation Log(loss) = -2.73 +- 4.44e-16\n",
      "-->    [15] Validation Log(loss) = -2.76 +- 4.44e-16\n",
      "epoch [20/100], Log(loss):-2.838\n",
      "-->    [20] Validation Log(loss) = -2.84 +- 0.00e+00\n",
      "-->    [25] Validation Log(loss) = -3.28 +- 4.44e-16\n",
      "epoch [30/100], Log(loss):-3.256\n",
      "-->    [30] Validation Log(loss) = -3.26 +- 4.44e-16\n",
      "-->    [35] Validation Log(loss) = -3.30 +- 0.00e+00\n",
      "epoch [40/100], Log(loss):-3.298\n",
      "-->    [40] Validation Log(loss) = -3.30 +- 0.00e+00\n",
      "-->    [45] Validation Log(loss) = -3.24 +- 4.44e-16\n",
      "epoch [50/100], Log(loss):-3.454\n",
      "-->    [50] Validation Log(loss) = -3.45 +- 4.44e-16\n",
      "-->    [55] Validation Log(loss) = -3.43 +- 0.00e+00\n",
      "epoch [60/100], Log(loss):-3.370\n",
      "-->    [60] Validation Log(loss) = -3.37 +- 0.00e+00\n",
      "-->    [65] Validation Log(loss) = -3.35 +- 4.44e-16\n",
      "epoch [70/100], Log(loss):-3.471\n",
      "-->    [70] Validation Log(loss) = -3.47 +- 0.00e+00\n",
      "-->    [75] Validation Log(loss) = -3.46 +- 0.00e+00\n",
      "epoch [80/100], Log(loss):-3.566\n",
      "-->    [80] Validation Log(loss) = -3.57 +- 4.44e-16\n",
      "-->    [85] Validation Log(loss) = -3.52 +- 4.44e-16\n",
      "epoch [90/100], Log(loss):-3.411\n",
      "-->    [90] Validation Log(loss) = -3.41 +- 4.44e-16\n",
      "-->    [95] Validation Log(loss) = -3.48 +- 0.00e+00\n",
      "--- 43.52945137023926 seconds ---\n"
     ]
    }
   ],
   "source": [
    "# Train the Autoencoder \n",
    "train_epochs = 100\n",
    "b_s = 32 #batch size\n",
    "model,loss, performance = train_AE(model,log_mse_loss,train_epochs, training_x=retrieved_dataset[\"x_train\"],\n",
    "                                   validation_x=retrieved_dataset[\"x_val\"],batch_size=b_s,epochs_validation=5)"
   ]
  },
  {
   "cell_type": "code",
   "execution_count": 7,
   "metadata": {},
   "outputs": [
    {
     "name": "stdout",
     "output_type": "stream",
     "text": [
      "Generating loss report: 99.9 % \n",
      "Done.\n"
     ]
    },
    {
     "data": {
      "text/html": [
       "<div>\n",
       "<style scoped>\n",
       "    .dataframe tbody tr th:only-of-type {\n",
       "        vertical-align: middle;\n",
       "    }\n",
       "\n",
       "    .dataframe tbody tr th {\n",
       "        vertical-align: top;\n",
       "    }\n",
       "\n",
       "    .dataframe thead th {\n",
       "        text-align: right;\n",
       "    }\n",
       "</style>\n",
       "<table border=\"1\" class=\"dataframe\">\n",
       "  <thead>\n",
       "    <tr style=\"text-align: right;\">\n",
       "      <th></th>\n",
       "      <th>species</th>\n",
       "      <th>mean_err</th>\n",
       "      <th>max_err</th>\n",
       "      <th>min_err</th>\n",
       "      <th>std_err</th>\n",
       "    </tr>\n",
       "  </thead>\n",
       "  <tbody>\n",
       "    <tr>\n",
       "      <th>0</th>\n",
       "      <td>h</td>\n",
       "      <td>0.203121</td>\n",
       "      <td>0.892488</td>\n",
       "      <td>0.000423</td>\n",
       "      <td>0.174035</td>\n",
       "    </tr>\n",
       "    <tr>\n",
       "      <th>1</th>\n",
       "      <td>h2</td>\n",
       "      <td>0.260696</td>\n",
       "      <td>1.804577</td>\n",
       "      <td>0.001239</td>\n",
       "      <td>0.290899</td>\n",
       "    </tr>\n",
       "    <tr>\n",
       "      <th>2</th>\n",
       "      <td>he</td>\n",
       "      <td>0.238097</td>\n",
       "      <td>1.097073</td>\n",
       "      <td>0.001082</td>\n",
       "      <td>0.206697</td>\n",
       "    </tr>\n",
       "    <tr>\n",
       "      <th>3</th>\n",
       "      <td>c</td>\n",
       "      <td>0.090343</td>\n",
       "      <td>1.013101</td>\n",
       "      <td>0.000111</td>\n",
       "      <td>0.132621</td>\n",
       "    </tr>\n",
       "    <tr>\n",
       "      <th>4</th>\n",
       "      <td>ch</td>\n",
       "      <td>0.146712</td>\n",
       "      <td>0.930045</td>\n",
       "      <td>0.000376</td>\n",
       "      <td>0.172651</td>\n",
       "    </tr>\n",
       "    <tr>\n",
       "      <th>5</th>\n",
       "      <td>ch2</td>\n",
       "      <td>0.221837</td>\n",
       "      <td>0.802742</td>\n",
       "      <td>0.003224</td>\n",
       "      <td>0.181705</td>\n",
       "    </tr>\n",
       "    <tr>\n",
       "      <th>6</th>\n",
       "      <td>ch3</td>\n",
       "      <td>0.164006</td>\n",
       "      <td>0.686670</td>\n",
       "      <td>0.001610</td>\n",
       "      <td>0.145782</td>\n",
       "    </tr>\n",
       "    <tr>\n",
       "      <th>7</th>\n",
       "      <td>ch4</td>\n",
       "      <td>0.231370</td>\n",
       "      <td>0.803028</td>\n",
       "      <td>0.000057</td>\n",
       "      <td>0.177045</td>\n",
       "    </tr>\n",
       "    <tr>\n",
       "      <th>8</th>\n",
       "      <td>c2</td>\n",
       "      <td>0.258602</td>\n",
       "      <td>1.363623</td>\n",
       "      <td>0.001075</td>\n",
       "      <td>0.234738</td>\n",
       "    </tr>\n",
       "    <tr>\n",
       "      <th>9</th>\n",
       "      <td>c2h</td>\n",
       "      <td>0.263590</td>\n",
       "      <td>1.303267</td>\n",
       "      <td>0.000083</td>\n",
       "      <td>0.276590</td>\n",
       "    </tr>\n",
       "  </tbody>\n",
       "</table>\n",
       "</div>"
      ],
      "text/plain": [
       "  species  mean_err   max_err   min_err   std_err\n",
       "0       h  0.203121  0.892488  0.000423  0.174035\n",
       "1      h2  0.260696  1.804577  0.001239  0.290899\n",
       "2      he  0.238097  1.097073  0.001082  0.206697\n",
       "3       c  0.090343  1.013101  0.000111  0.132621\n",
       "4      ch  0.146712  0.930045  0.000376  0.172651\n",
       "5     ch2  0.221837  0.802742  0.003224  0.181705\n",
       "6     ch3  0.164006  0.686670  0.001610  0.145782\n",
       "7     ch4  0.231370  0.803028  0.000057  0.177045\n",
       "8      c2  0.258602  1.363623  0.001075  0.234738\n",
       "9     c2h  0.263590  1.303267  0.000083  0.276590"
      ]
     },
     "execution_count": 7,
     "metadata": {},
     "output_type": "execute_result"
    }
   ],
   "source": [
    "# generating loss report\n",
    "loss_report = generate_loss_report(model,retrieved_dataset[\"cols\"],retrieved_dataset[\"x_test\"],retrieved_dataset[\"x_test\"])\n",
    "loss_report.head(10)"
   ]
  },
  {
   "cell_type": "code",
   "execution_count": 8,
   "metadata": {},
   "outputs": [
    {
     "data": {
      "text/html": [
       "<div>\n",
       "<style scoped>\n",
       "    .dataframe tbody tr th:only-of-type {\n",
       "        vertical-align: middle;\n",
       "    }\n",
       "\n",
       "    .dataframe tbody tr th {\n",
       "        vertical-align: top;\n",
       "    }\n",
       "\n",
       "    .dataframe thead th {\n",
       "        text-align: right;\n",
       "    }\n",
       "</style>\n",
       "<table border=\"1\" class=\"dataframe\">\n",
       "  <thead>\n",
       "    <tr style=\"text-align: right;\">\n",
       "      <th></th>\n",
       "      <th>species</th>\n",
       "      <th>mean_err</th>\n",
       "      <th>max_err</th>\n",
       "      <th>min_err</th>\n",
       "      <th>std_err</th>\n",
       "    </tr>\n",
       "  </thead>\n",
       "  <tbody>\n",
       "    <tr>\n",
       "      <th>126</th>\n",
       "      <td>c2s+</td>\n",
       "      <td>0.103716</td>\n",
       "      <td>0.546459</td>\n",
       "      <td>0.000072</td>\n",
       "      <td>0.097716</td>\n",
       "    </tr>\n",
       "    <tr>\n",
       "      <th>133</th>\n",
       "      <td>fe+</td>\n",
       "      <td>0.115048</td>\n",
       "      <td>0.384205</td>\n",
       "      <td>0.000160</td>\n",
       "      <td>0.093758</td>\n",
       "    </tr>\n",
       "    <tr>\n",
       "      <th>134</th>\n",
       "      <td>electr</td>\n",
       "      <td>0.120516</td>\n",
       "      <td>0.538168</td>\n",
       "      <td>0.005234</td>\n",
       "      <td>0.111420</td>\n",
       "    </tr>\n",
       "    <tr>\n",
       "      <th>38</th>\n",
       "      <td>nh2</td>\n",
       "      <td>0.302051</td>\n",
       "      <td>2.552103</td>\n",
       "      <td>0.001095</td>\n",
       "      <td>0.314306</td>\n",
       "    </tr>\n",
       "    <tr>\n",
       "      <th>112</th>\n",
       "      <td>hcnh+</td>\n",
       "      <td>0.306445</td>\n",
       "      <td>2.783691</td>\n",
       "      <td>0.019908</td>\n",
       "      <td>0.293218</td>\n",
       "    </tr>\n",
       "    <tr>\n",
       "      <th>47</th>\n",
       "      <td>sh</td>\n",
       "      <td>0.322840</td>\n",
       "      <td>2.737797</td>\n",
       "      <td>0.001373</td>\n",
       "      <td>0.392035</td>\n",
       "    </tr>\n",
       "    <tr>\n",
       "      <th>49</th>\n",
       "      <td>cs</td>\n",
       "      <td>0.373238</td>\n",
       "      <td>2.540630</td>\n",
       "      <td>0.000084</td>\n",
       "      <td>0.513870</td>\n",
       "    </tr>\n",
       "    <tr>\n",
       "      <th>109</th>\n",
       "      <td>cn+</td>\n",
       "      <td>0.374906</td>\n",
       "      <td>2.649181</td>\n",
       "      <td>0.000050</td>\n",
       "      <td>0.550701</td>\n",
       "    </tr>\n",
       "    <tr>\n",
       "      <th>53</th>\n",
       "      <td>so2</td>\n",
       "      <td>0.442441</td>\n",
       "      <td>3.057568</td>\n",
       "      <td>0.006731</td>\n",
       "      <td>0.394675</td>\n",
       "    </tr>\n",
       "    <tr>\n",
       "      <th>122</th>\n",
       "      <td>cs+</td>\n",
       "      <td>0.479428</td>\n",
       "      <td>4.455990</td>\n",
       "      <td>0.000940</td>\n",
       "      <td>0.522277</td>\n",
       "    </tr>\n",
       "    <tr>\n",
       "      <th>33</th>\n",
       "      <td>h3co</td>\n",
       "      <td>0.531389</td>\n",
       "      <td>2.247002</td>\n",
       "      <td>0.002552</td>\n",
       "      <td>0.427635</td>\n",
       "    </tr>\n",
       "  </tbody>\n",
       "</table>\n",
       "</div>"
      ],
      "text/plain": [
       "    species  mean_err   max_err   min_err   std_err\n",
       "126    c2s+  0.103716  0.546459  0.000072  0.097716\n",
       "133     fe+  0.115048  0.384205  0.000160  0.093758\n",
       "134  electr  0.120516  0.538168  0.005234  0.111420\n",
       "38      nh2  0.302051  2.552103  0.001095  0.314306\n",
       "112   hcnh+  0.306445  2.783691  0.019908  0.293218\n",
       "47       sh  0.322840  2.737797  0.001373  0.392035\n",
       "49       cs  0.373238  2.540630  0.000084  0.513870\n",
       "109     cn+  0.374906  2.649181  0.000050  0.550701\n",
       "53      so2  0.442441  3.057568  0.006731  0.394675\n",
       "122     cs+  0.479428  4.455990  0.000940  0.522277\n",
       "33     h3co  0.531389  2.247002  0.002552  0.427635"
      ]
     },
     "execution_count": 8,
     "metadata": {},
     "output_type": "execute_result"
    }
   ],
   "source": [
    "# getting outlier in the (mean_err, max_err ) plane. sort them by mean-err value.\n",
    "# outlier  if |z score| > 1.2\n",
    "get_z_outliers(loss_report,1.2,[\"mean_err\",\"max_err\"],\"mean_err\")"
   ]
  },
  {
   "cell_type": "code",
   "execution_count": 10,
   "metadata": {},
   "outputs": [
    {
     "data": {
      "text/plain": [
       "Text(0.5, 0, 'Epoch')"
      ]
     },
     "execution_count": 10,
     "metadata": {},
     "output_type": "execute_result"
    },
    {
     "data": {
      "image/png": "[encoded data removed]",
      "text/plain": [
       "<Figure size 432x288 with 1 Axes>"
      ]
     },
     "metadata": {
      "needs_background": "light"
     },
     "output_type": "display_data"
    }
   ],
   "source": [
    "plt.plot(loss)\n",
    "plt.yscale(\"log\")\n",
    "plt.ylabel(\"loss\")\n",
    "plt.xlabel(\"Epoch\")"
   ]
  },
  {
   "cell_type": "code",
   "execution_count": null,
   "metadata": {},
   "outputs": [],
   "source": []
  }
 ],
 "metadata": {
  "kernelspec": {
   "display_name": "Python 3",
   "language": "python",
   "name": "python3"
  },
  "language_info": {
   "codemirror_mode": {
    "name": "ipython",
    "version": 3
   },
   "file_extension": ".py",
   "mimetype": "text/x-python",
   "name": "python",
   "nbconvert_exporter": "python",
   "pygments_lexer": "ipython3",
   "version": "3.8.3"
  }
 },
 "nbformat": 4,
 "nbformat_minor": 4
}
